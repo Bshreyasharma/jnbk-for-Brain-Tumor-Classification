{
 "cells": [
  {
   "cell_type": "code",
   "execution_count": 1,
   "metadata": {},
   "outputs": [],
   "source": [
    "import os\n",
    "import numpy as np\n",
    "import nibabel as nib\n",
    "import pandas as pd\n",
    "import scipy.ndimage as ndi\n",
    "import seaborn as sns\n",
    "import ipyvolume as ipv\n",
    "from PIL import Image\n",
    "import matplotlib.pyplot as plt\n",
    "%matplotlib notebook"
   ]
  },
  {
   "cell_type": "code",
   "execution_count": 2,
   "metadata": {},
   "outputs": [],
   "source": [
    "dir_of_interest =\"C:\\\\Users\\\\Shreya\\\\Downloads\\\\Car Rental\\\\BrainClassification\"\n",
    "os.chdir(dir_of_interest)"
   ]
  },
  {
   "cell_type": "code",
   "execution_count": 3,
   "metadata": {},
   "outputs": [],
   "source": [
    "dataframe_original = pd.read_csv('training_data_classification_labels.csv')"
   ]
  },
  {
   "cell_type": "code",
   "execution_count": 6,
   "metadata": {},
   "outputs": [],
   "source": [
    "df = dataframe_original.copy()"
   ]
  },
  {
   "cell_type": "code",
   "execution_count": 4,
   "metadata": {},
   "outputs": [],
   "source": [
    "dir_of_interest =\"G:\\BrainClassification\"\n",
    "os.chdir(dir_of_interest)"
   ]
  },
  {
   "cell_type": "code",
   "execution_count": 10,
   "metadata": {},
   "outputs": [
    {
     "data": {
      "text/html": [
       "<div>\n",
       "<style scoped>\n",
       "    .dataframe tbody tr th:only-of-type {\n",
       "        vertical-align: middle;\n",
       "    }\n",
       "\n",
       "    .dataframe tbody tr th {\n",
       "        vertical-align: top;\n",
       "    }\n",
       "\n",
       "    .dataframe thead th {\n",
       "        text-align: right;\n",
       "    }\n",
       "</style>\n",
       "<table border=\"1\" class=\"dataframe\">\n",
       "  <thead>\n",
       "    <tr style=\"text-align: right;\">\n",
       "      <th></th>\n",
       "      <th>CPM_RadPath_2019_ID</th>\n",
       "      <th>class</th>\n",
       "      <th>age_in_days</th>\n",
       "    </tr>\n",
       "  </thead>\n",
       "  <tbody>\n",
       "    <tr>\n",
       "      <td>0</td>\n",
       "      <td>CPM19_CBICA_AAB_1</td>\n",
       "      <td>G</td>\n",
       "      <td>22393</td>\n",
       "    </tr>\n",
       "    <tr>\n",
       "      <td>1</td>\n",
       "      <td>CPM19_CBICA_AAG_1</td>\n",
       "      <td>G</td>\n",
       "      <td>19355</td>\n",
       "    </tr>\n",
       "    <tr>\n",
       "      <td>2</td>\n",
       "      <td>CPM19_CBICA_ABE_1</td>\n",
       "      <td>G</td>\n",
       "      <td>24859</td>\n",
       "    </tr>\n",
       "    <tr>\n",
       "      <td>3</td>\n",
       "      <td>CPM19_CBICA_ABM_1</td>\n",
       "      <td>G</td>\n",
       "      <td>25892</td>\n",
       "    </tr>\n",
       "    <tr>\n",
       "      <td>4</td>\n",
       "      <td>CPM19_CBICA_ABO_1</td>\n",
       "      <td>G</td>\n",
       "      <td>20896</td>\n",
       "    </tr>\n",
       "  </tbody>\n",
       "</table>\n",
       "</div>"
      ],
      "text/plain": [
       "  CPM_RadPath_2019_ID class  age_in_days\n",
       "0   CPM19_CBICA_AAB_1     G        22393\n",
       "1   CPM19_CBICA_AAG_1     G        19355\n",
       "2   CPM19_CBICA_ABE_1     G        24859\n",
       "3   CPM19_CBICA_ABM_1     G        25892\n",
       "4   CPM19_CBICA_ABO_1     G        20896"
      ]
     },
     "execution_count": 10,
     "metadata": {},
     "output_type": "execute_result"
    }
   ],
   "source": [
    "df.head()"
   ]
  },
  {
   "cell_type": "code",
   "execution_count": 15,
   "metadata": {},
   "outputs": [],
   "source": [
    "y=[]\n",
    "for f in os.listdir(dir_of_interest):\n",
    "    if os.path.abspath(f):\n",
    "        i=df.loc[df['CPM_RadPath_2019_ID']==f].index[0]\n",
    "        y.append(df.iloc[i]['class'])"
   ]
  },
  {
   "cell_type": "code",
   "execution_count": 16,
   "metadata": {},
   "outputs": [],
   "source": [
    "def find_max_tumor(image):\n",
    "    #Takes in the numpy image and returns the layer index which contains the maximum size of tumor\n",
    "    mask_sum=0\n",
    "    layer_index=0\n",
    "    for i in range(155): #as there are 155 height layers\n",
    "        image_file=image[:,:,i]\n",
    "        filt= ndi.gaussian_filter(image_file,sigma=1)\n",
    "        mask = filt > 450\n",
    "        labels, nlabels = ndi.label(mask)\n",
    "        \n",
    "        if i==154 and mask_sum==0:\n",
    "            m=0\n",
    "            l=0\n",
    "            for j in range(155):\n",
    "                image_file=image[:,:,j]\n",
    "                filt= ndi.gaussian_filter(image_file,sigma=1)\n",
    "                mask1 = filt > 250\n",
    "                if mask1.sum() > m:\n",
    "                    m=mask1.sum()\n",
    "                    l=j\n",
    "            mask_sum=m\n",
    "            layer_index=l\n",
    "        \n",
    "        if mask.sum() > mask_sum:\n",
    "            mask_sum=mask.sum()\n",
    "            layer_index=i\n",
    "    \n",
    "    return layer_index"
   ]
  },
  {
   "cell_type": "code",
   "execution_count": 17,
   "metadata": {},
   "outputs": [],
   "source": [
    "X=[]\n",
    "\n",
    "for f in os.listdir(dir_of_interest):\n",
    "    if os.path.abspath(f):\n",
    "        flair_image=\"./\"+f+\"/\"+f+\"_flair.nii.gz\"\n",
    "        flair_image = str(flair_image)\n",
    "        flair_image = nib.load(flair_image)\n",
    "        #flair_image = img.get_fdata()\n",
    "        flair_image = np.array(flair_image.dataobj)\n",
    "        \n",
    "        t1_image=\"./\"+f+\"/\"+f+'_t1.nii.gz'\n",
    "        t1_image = str(t1_image)\n",
    "        t1_image = nib.load(t1_image)\n",
    "        #t1_image = img.get_fdata()\n",
    "        t1_image = np.array(t1_image.dataobj)\n",
    "        \n",
    "        t1ce_image=\"./\"+f+\"/\"+f+'_t1ce.nii.gz'\n",
    "        t1ce_image = str(t1ce_image)\n",
    "        t1ce_image = nib.load(t1ce_image)\n",
    "        #t1ce_image = img.get_fdata()\n",
    "        t1ce_image = np.array(t1ce_image.dataobj)\n",
    "        \n",
    "        t2_image=\"./\"+f+\"/\"+f+'_t2.nii.gz'\n",
    "        t2_image = str(t2_image)\n",
    "        t2_image = nib.load(t2_image)\n",
    "        #t2_image = img.get_fdata()\n",
    "        t2_image = np.array(t2_image.dataobj)\n",
    "        \n",
    "        layer_index=find_max_tumor(flair_image)\n",
    "        \n",
    "        flair_image=flair_image[:,:,layer_index]\n",
    "        t1_image=t1_image[:,:,layer_index]\n",
    "        t1ce_image=t1ce_image[:,:,layer_index]\n",
    "        t2_image=t2_image[:,:,layer_index]\n",
    "        #Concat the images and store into X_train\n",
    "        res=np.concatenate((flair_image,t1_image,t1ce_image,t2_image),axis=1)\n",
    "        img = Image.fromarray(res)\n",
    "        img=img.convert('RGB')\n",
    "        file_name=f\n",
    "        img.save(\"G:/SavedImage/\"+file_name+\".png\")\n",
    "        X.append(res)"
   ]
  },
  {
   "cell_type": "code",
   "execution_count": 19,
   "metadata": {},
   "outputs": [],
   "source": [
    "np.save('G:/X.npy', X)"
   ]
  },
  {
   "cell_type": "code",
   "execution_count": 20,
   "metadata": {},
   "outputs": [],
   "source": [
    "np.save('G:/y.npy',y)"
   ]
  },
  {
   "cell_type": "code",
   "execution_count": 21,
   "metadata": {},
   "outputs": [],
   "source": [
    "from sklearn.model_selection import train_test_split\n",
    "\n",
    "(trainX, testX, trainY, testY) = train_test_split(X, y, test_size=0.25)"
   ]
  },
  {
   "cell_type": "code",
   "execution_count": 22,
   "metadata": {},
   "outputs": [],
   "source": [
    "np.save('G:/X_train.npy', trainX)"
   ]
  },
  {
   "cell_type": "code",
   "execution_count": 23,
   "metadata": {},
   "outputs": [],
   "source": [
    "np.save('G:/X_test.npy', testX)"
   ]
  },
  {
   "cell_type": "code",
   "execution_count": 24,
   "metadata": {},
   "outputs": [],
   "source": [
    "np.save('G:/y_test.npy', testY)"
   ]
  },
  {
   "cell_type": "code",
   "execution_count": 25,
   "metadata": {},
   "outputs": [],
   "source": [
    "np.save('G:/y_train.npy', trainY)"
   ]
  },
  {
   "cell_type": "code",
   "execution_count": null,
   "metadata": {},
   "outputs": [],
   "source": []
  }
 ],
 "metadata": {
  "kernelspec": {
   "display_name": "Python 3",
   "language": "python",
   "name": "python3"
  },
  "language_info": {
   "codemirror_mode": {
    "name": "ipython",
    "version": 3
   },
   "file_extension": ".py",
   "mimetype": "text/x-python",
   "name": "python",
   "nbconvert_exporter": "python",
   "pygments_lexer": "ipython3",
   "version": "3.7.4"
  }
 },
 "nbformat": 4,
 "nbformat_minor": 2
}
